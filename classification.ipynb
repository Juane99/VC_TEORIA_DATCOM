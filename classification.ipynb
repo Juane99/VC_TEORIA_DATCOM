{
 "cells": [
  {
   "cell_type": "markdown",
   "source": [
    "\n",
    "<div style=\"line-height:2px;border: solid orange\">\n",
    "    <p>\n",
    "    <p style=\"color:blue;font-family:arial;text-align:right;font-size:20\"> Visión por Computador &nbsp;&nbsp;\n",
    "    <p style=\"color:blue;font-family:arial;text-align:right;font-size:16\"> Master en Ciencias de Datos e Ingeniería de Ordenadores   &nbsp;&nbsp;\n",
    "  <p style=\"color:blue;font-family:arial;text-align:right;font-size:16\"> Rosa Mª. Rodríguez Sánchez   &nbsp;&nbsp;\n",
    "    <p style=\"color:blue;font-family:arial;text-align:right;font-size:10\"> Dpto. Ciencias de la Computación e Inteligencia Artificial. &nbsp;&nbsp;\n",
    "    <p style=\"color:blue;font-family:arial;text-align:right;font-size:10\"> ETSIIT. Universidad de Granada   &nbsp;&nbsp;\n",
    "        <p>\n",
    "</div>"
   ],
   "metadata": {
    "collapsed": false
   }
  },
  {
   "cell_type": "markdown",
   "source": [
    "# Trabajo 3- Clasificación de peatones\n",
    "\n",
    "## Autores:\n",
    "    -  Juan Emilio Martínez Manjón\n",
    "    -  Antonio David Villegas Yeguas"
   ],
   "metadata": {
    "collapsed": false
   }
  },
  {
   "cell_type": "markdown",
   "source": [
    "### Preprocesamiento de la BBDD"
   ],
   "metadata": {
    "collapsed": false
   }
  },
  {
   "cell_type": "code",
   "execution_count": 92,
   "outputs": [],
   "source": [
    "# Módulos\n",
    "\n",
    "import math\n",
    "import cv2\n",
    "import os\n",
    "from sklearn.svm import SVC\n",
    "import seaborn as sn\n",
    "from sklearn.metrics import confusion_matrix\n",
    "import numpy as np\n",
    "import matplotlib.pyplot as plt\n",
    "from keras import Model, Sequential\n",
    "from keras.losses import BinaryCrossentropy\n",
    "from tensorflow.keras.optimizers import Adam\n",
    "from keras.metrics import BinaryAccuracy\n",
    "from keras.callbacks import EarlyStopping\n",
    "from keras.layers import Dense, Dropout, Lambda, BatchNormalization, RandomFlip, RandomRotation\n",
    "import random\n",
    "from time import time\n",
    "random.seed(1234)"
   ],
   "metadata": {
    "collapsed": false,
    "pycharm": {
     "name": "#%%\n"
    }
   }
  },
  {
   "cell_type": "code",
   "execution_count": 88,
   "metadata": {
    "collapsed": true
   },
   "outputs": [
    {
     "name": "stdout",
     "output_type": "stream",
     "text": [
      "Dimensiones imagenes positivas:  (128, 64, 3)\n",
      "Dimensiones imagenes negativas:  (128, 64, 3)\n",
      "Numero de imagenes positivas:  400\n",
      "Numero de imagenes negativas:  400\n"
     ]
    }
   ],
   "source": [
    "# Establecemos una semilla\n",
    "random.seed(1234)\n",
    "\n",
    "# Creamos una función que lea todas las imágenes de un directorio\n",
    "# concreto.\n",
    "def load_images(directorio, color=0):\n",
    "    imagenes = []\n",
    "    for filename in os.listdir(directorio):\n",
    "        img = cv2.imread(os.path.join(directorio,filename),color)\n",
    "        if img is not None:\n",
    "            imagenes.append(img)\n",
    "    return imagenes\n",
    "\n",
    "# Leemos las imágenes positivas (con peatones)\n",
    "X_pos = load_images(\"data/classification/pedestrians128x64\",1)\n",
    "y_pos = [1 for i in range(0,len(X_pos))]\n",
    "\n",
    "# Leemos las imágenes negativas (sin peatones)\n",
    "X_neg = load_images(\"data/classification/pedestrians_neg\",1)\n",
    "y_nega = [-1 for i in range(0,len(X_neg))]\n",
    "\n",
    "# El guion de prácticas nos indica que solo debemos usar 400 de las 924\n",
    "# imágenes positivas. Las escogemos aleatoriamente.\n",
    "X_pos = random.sample(X_pos, 400)\n",
    "y_pos = y_pos[0:400]\n",
    "\n",
    "# El conjunto negativo solo tiene 50 imágenes. Debemos aumentar este conjunto\n",
    "# hasta llegar a 400. Para ello redimensionaremos las 50 imágenes a un tamaño de\n",
    "# 512x512. Una vez hecho esto, escogeremos 8 trozos 128x64 de cada imagen\n",
    "# redimensionada.\n",
    "\n",
    "# Redimensionamos las imágenes\n",
    "X_neg_resized = []\n",
    "\n",
    "for im in X_neg:\n",
    "    X_neg_resized.append(cv2.resize(im,(512,512)))\n",
    "\n",
    "# Extraemos 8 trozos 128x64 de cada imagen\n",
    "X_neg = []\n",
    "\n",
    "for im in X_neg_resized:\n",
    "    for i in range (0,8):\n",
    "\n",
    "        # Escogemos una fila y columna inicial aleatoria\n",
    "        random_init_row = random.randint(0,512-128)\n",
    "        random_init_col = random.randint(0,512-64)\n",
    "\n",
    "        # Extraemos la imagen\n",
    "        extraida = im[random_init_row:random_init_row+128, random_init_col:random_init_col+64]\n",
    "        X_neg.append(extraida)\n",
    "\n",
    "y_nega = [-1 for i in range(0,len(X_neg))]\n",
    "\n",
    "print(\"Dimensiones imagenes positivas: \",X_pos[0].shape)\n",
    "print(\"Dimensiones imagenes negativas: \",X_neg[0].shape)\n",
    "print(\"Numero de imagenes positivas: \",len(X_pos))\n",
    "print(\"Numero de imagenes negativas: \",len(X_neg))"
   ]
  },
  {
   "cell_type": "markdown",
   "source": [
    "### Clasificación usando SVM"
   ],
   "metadata": {
    "collapsed": false
   }
  },
  {
   "cell_type": "code",
   "execution_count": 89,
   "outputs": [
    {
     "name": "stdout",
     "output_type": "stream",
     "text": [
      "Dimensiones HOG_X_pos:  (400, 4200)\n",
      "Dimensiones HOG_X_neg:  (400, 4200)\n"
     ]
    }
   ],
   "source": [
    "# Función que calcula el HOG de una imagen\n",
    "def HOG(imagen):\n",
    "\n",
    "    # Pasamos la imagen a float (escala 0-1)\n",
    "    imagen = np.float32(imagen) / 255.0\n",
    "\n",
    "    # Comenzamos obteniendo las imágenes gradiente. Para ello\n",
    "    # convolucionamos la imagen con kernels Sobel 1D.\n",
    "\n",
    "    Gx = cv2.Sobel(imagen, cv2.CV_32F, 1, 0, ksize=1)\n",
    "    Gy = cv2.Sobel(imagen, cv2.CV_32F, 0, 1, ksize=1)\n",
    "\n",
    "    # Calculamos la magnitud\n",
    "    magnitud = np.sqrt(Gx**2 + Gy**2)\n",
    "\n",
    "    # Calculamos la orientacion\n",
    "    orientacion = np.abs(np.arctan2(Gy,Gx) * 180/np.pi)\n",
    "\n",
    "    # Ahora debemos calcular un histograma de orientación de gradiente\n",
    "    # por cada célula 8x8 de nuestra imagen. Para ello crearemos una\n",
    "    # matriz de listas que iremos rellenando.\n",
    "\n",
    "    hog = [[0 for x in range(int(imagen.shape[1] / 8))] for y in range(int(imagen.shape[0] / 8))]\n",
    "\n",
    "    # Recorremos cada célula\n",
    "    for indice1,r in enumerate(range(0, imagen.shape[0], 8)):\n",
    "        for indice2,c in enumerate(range(0, imagen.shape[1], 8)):\n",
    "\n",
    "            # Inicializamos el hog de la célula actual\n",
    "            hog_aux = [0.0 for i in range(0,10)]\n",
    "            hog_angles = [10,30,50,70,90,110,130,150,170,180]\n",
    "            mag_aux = magnitud[r:r+8,c:c+8,1]\n",
    "            ori_aux = orientacion[r:r+8,c:c+8,1]\n",
    "\n",
    "            # Recorremos la célula\n",
    "            for i in range(mag_aux.shape[0]):\n",
    "                for j in range(mag_aux.shape[1]):\n",
    "\n",
    "                    # Vemos cual es el ángulo más cercano de la lista de hog_angles\n",
    "                    indx = (np.abs(hog_angles - ori_aux[i][j])).argmin()\n",
    "\n",
    "                    # Si coincide con el ángulo, añadimos la magnitud del pixel al hog\n",
    "                    if (ori_aux[i][j] == hog_angles[indx]):\n",
    "                        hog_aux[indx] += mag_aux[i][j]\n",
    "\n",
    "                    # Si no coincide, dividimos la magnitud entre los ángulos adyacentes\n",
    "                    else:\n",
    "                        # Si el ángulo es menor\n",
    "                        if (ori_aux[i][j] < hog_angles[indx]):\n",
    "\n",
    "                            hog_aux[indx-1] += mag_aux[i][j]*(hog_angles[indx]-ori_aux[i][j])/(hog_angles[indx] - hog_angles[indx-1])\n",
    "\n",
    "                            hog_aux[indx] += mag_aux[i][j]*(ori_aux[i][j] - hog_angles[indx-1])/(hog_angles[indx] - hog_angles[indx-1])\n",
    "\n",
    "                        # Si el ángulo es mayor\n",
    "                        else:\n",
    "\n",
    "                            hog_aux[indx] += mag_aux[i][j]*(hog_angles[indx+1]-ori_aux[i][j])/(hog_angles[indx+1] - hog_angles[indx])\n",
    "\n",
    "                            hog_aux[indx+1] += mag_aux[i][j]*(ori_aux[i][j] - hog_angles[indx])/(hog_angles[indx+1] - hog_angles[indx])\n",
    "\n",
    "            # Almacenamos en hog los valores de hog_aux\n",
    "            hog[indice1][indice2] = hog_aux\n",
    "\n",
    "    # Agrupamos los histogramas/célula en bloques de histogramas. Cada bloque estará formado\n",
    "    # por 4 células.\n",
    "    hog_bloques = []\n",
    "    for i in range(0, int(imagen.shape[0] / 8) - 1):\n",
    "        for j in range(0, int(imagen.shape[1] / 8) - 1):\n",
    "\n",
    "            aux = []\n",
    "\n",
    "            aux = aux + hog[i][j]\n",
    "            aux = aux + hog[i][j+1]\n",
    "            aux = aux + hog[i+1][j]\n",
    "            aux = aux + hog[i+1][j+1]\n",
    "\n",
    "            hog_bloques.append(aux)\n",
    "\n",
    "    # Normalizamos el hog por bloques\n",
    "    for i,bloque in enumerate(hog_bloques):\n",
    "\n",
    "        # Calculamos el modulo del bloque actual\n",
    "        modulo = 0.0\n",
    "        for el in bloque:\n",
    "            modulo = modulo + el**2\n",
    "\n",
    "        modulo = math.sqrt(modulo + 0.01)\n",
    "\n",
    "        # Dividimos el bloque actual entre el módulo\n",
    "        hog_bloques[i] = [x / modulo for x in bloque]\n",
    "\n",
    "    # Concatenamos todos los elementos del hog de bloques\n",
    "    # para obtener el vector de descriptores\n",
    "    vector_descriptores = [x for l in hog_bloques for x in l]\n",
    "\n",
    "    # Normalizamos el vector de descriptores\n",
    "    modulo = 0.0\n",
    "    for el in vector_descriptores:\n",
    "        modulo = modulo + el**2\n",
    "\n",
    "    modulo = math.sqrt(modulo + 0.01)\n",
    "\n",
    "    # Dividimos cada elemento del vector entre el módulo\n",
    "    vector_descriptores = [x / modulo for x in vector_descriptores]\n",
    "\n",
    "    return vector_descriptores\n",
    "\n",
    "\n",
    "\n",
    "# Creamos HOG_X_pos y HOG_X_neg a partir de X_pos y X_neg.\n",
    "# Empezamos con HOG_X_pos\n",
    "HOG_X_pos = []\n",
    "\n",
    "for imagen in X_pos:\n",
    "    HOG_X_pos.append(HOG(imagen))\n",
    "\n",
    "HOG_X_pos = np.array([np.array(xi) for xi in HOG_X_pos])\n",
    "\n",
    "print(\"Dimensiones HOG_X_pos: \",HOG_X_pos.shape)\n",
    "\n",
    "\n",
    "# Ahora HOG_X_neg\n",
    "HOG_X_neg = []\n",
    "\n",
    "for imagen in X_neg:\n",
    "    HOG_X_neg.append(HOG(imagen))\n",
    "\n",
    "HOG_X_neg = np.array([np.array(xi) for xi in HOG_X_neg])\n",
    "\n",
    "print(\"Dimensiones HOG_X_neg: \",HOG_X_neg.shape)"
   ],
   "metadata": {
    "collapsed": false,
    "pycharm": {
     "name": "#%%\n"
    }
   }
  },
  {
   "cell_type": "code",
   "execution_count": 90,
   "outputs": [
    {
     "name": "stdout",
     "output_type": "stream",
     "text": [
      "Numero de observaciones training:  640\n",
      "Numero de observaciones test:  160\n"
     ]
    }
   ],
   "source": [
    "# Establecemos una semilla\n",
    "random.seed(1234)\n",
    "\n",
    "# Creamos la matriz X y el vector y\n",
    "X = np.concatenate([HOG_X_pos,HOG_X_neg])\n",
    "y = np.concatenate([y_pos,y_nega])\n",
    "\n",
    "# Hacemos una división en training y test\n",
    "ntrain = round(0.8*len(y))\n",
    "ntest = len(X)-ntrain\n",
    "\n",
    "print(\"Numero de observaciones training: \",ntrain)\n",
    "print(\"Numero de observaciones test: \", ntest)\n",
    "\n",
    "idx = np.random.permutation(np.arange(len(y)))\n",
    "X_train= X[idx[0:ntrain],:]\n",
    "y_train=y[idx[0:ntrain]]\n",
    "X_test= X[idx[ntrain+1:len(y)],:]\n",
    "y_test=y[idx[ntrain+1:len(y)]]"
   ],
   "metadata": {
    "collapsed": false,
    "pycharm": {
     "name": "#%%\n"
    }
   }
  },
  {
   "cell_type": "code",
   "execution_count": 91,
   "outputs": [
    {
     "name": "stdout",
     "output_type": "stream",
     "text": [
      "Accuracy training:  1.0\n",
      "Accuracy test:  1.0\n"
     ]
    },
    {
     "data": {
      "text/plain": "(<AxesSubplot:title={'center':'Matriz confusión test'}>,\n <AxesSubplot:title={'center':'Matriz confusión test'}>,\n Text(0.5, 1.0, 'Matriz confusión test'))"
     },
     "execution_count": 91,
     "metadata": {},
     "output_type": "execute_result"
    },
    {
     "data": {
      "text/plain": "<Figure size 1440x504 with 4 Axes>",
      "image/png": "[encoded data removed]"
     },
     "metadata": {
      "needs_background": "light"
     },
     "output_type": "display_data"
    }
   ],
   "source": [
    "# Creamos un clasificador SVM y lo entrenamos con nuestros datos de\n",
    "# entrenamiento.\n",
    "\n",
    "m=SVC()\n",
    "m.fit(X_train,y_train)\n",
    "\n",
    "# Predecimos usando los datos de entrenamiento y de test\n",
    "y_pred_train=m.predict(X_train)\n",
    "y_pred_test=m.predict(X_test)\n",
    "\n",
    "# Obtenemos la accuracy en training y en test\n",
    "training_accuracy = np.sum(y_train == y_pred_train) / len(y_pred_train)\n",
    "test_accuracy = np.sum(y_test == y_pred_test) / len(y_pred_test)\n",
    "\n",
    "print(\"Accuracy training: \",training_accuracy)\n",
    "print(\"Accuracy test: \",test_accuracy)\n",
    "\n",
    "# Mostramos las matrices de confusión\n",
    "matriz_training = confusion_matrix(y_train,y_pred_train)\n",
    "matriz_test = confusion_matrix(y_test,y_pred_test)\n",
    "\n",
    "plt.figure(figsize = (20,7))\n",
    "plt.subplot(121),sn.heatmap(matriz_training, annot=True,fmt=\"d\"),plt.title('Matriz confusión training')\n",
    "plt.subplot(122),sn.heatmap(matriz_test, annot=True,fmt=\"d\"),plt.title('Matriz confusión test')"
   ],
   "metadata": {
    "collapsed": false,
    "pycharm": {
     "name": "#%%\n"
    }
   }
  },
  {
   "cell_type": "markdown",
   "source": [
    "### Clasificación usando CNN"
   ],
   "metadata": {
    "collapsed": false
   }
  },
  {
   "cell_type": "code",
   "execution_count": null,
   "outputs": [],
   "source": [
    "## Función que muestra la evolución de las accuracy de train y validación\n",
    "## durante el entrenamiento.\n",
    "def mostrar_evolucion(hist):\n",
    "\n",
    "  loss = hist.history['loss']\n",
    "  val_loss = hist.history['val_loss']\n",
    "  plt.plot(loss)\n",
    "  plt.plot(val_loss)\n",
    "  plt.legend(['Training loss', 'Validation loss'])\n",
    "  plt.show()\n",
    "\n",
    "  acc = hist.history['binary_accuracy']\n",
    "  val_acc = hist.history['val_binary_accuracy']\n",
    "  plt.plot(acc)\n",
    "  plt.plot(val_acc)\n",
    "  plt.legend(['Training accuracy', 'Validation accuracy'])\n",
    "  plt.show()\n",
    "\n",
    "# Función que entrena y calcula las métricas de un modelo usando Fine Tuning\n",
    "def train_model(base_model, input_layer, training, validation, test, logits=True):\n",
    "\n",
    "    # Creamos un modelo secuencial que usaremos para Data Augmentation\n",
    "    data_augmentation = Sequential([\n",
    "        RandomFlip(),\n",
    "        RandomRotation(0.1)\n",
    "    ])\n",
    "\n",
    "    # Creamos el modelo final\n",
    "    model = Sequential([\n",
    "        input_layer,\n",
    "        data_augmentation,\n",
    "        base_model,\n",
    "        BatchNormalization(),\n",
    "        Dropout(0.2),\n",
    "        Dense(1)\n",
    "    ])\n",
    "\n",
    "    # Compilamos el modelo\n",
    "    model.compile(\n",
    "        optimizer=Adam(),\n",
    "        loss=BinaryCrossentropy(from_logits=logits),\n",
    "        metrics=[BinaryAccuracy()]\n",
    "    )\n",
    "\n",
    "    # Entrenamos el modelo usando callbacks para parar de entrenar\n",
    "    # si la validación se aleja demasiado del entrenamiento\n",
    "    callback = EarlyStopping(patience=3,restore_best_weights=True)\n",
    "    start = time()\n",
    "    history = model.fit(training,\n",
    "                    epochs=100,\n",
    "                    validation_data=validation,\n",
    "                    callbacks=callback)\n",
    "    first_training_time = time()-start\n",
    "    mostrar_evolucion(history)\n",
    "\n",
    "    # Descongelamos el modelo base\n",
    "    base_model.trainable = True\n",
    "\n",
    "    # Compilamos el modelo de nuevo usando un learning rate bajo\n",
    "    model.compile(\n",
    "        optimizer=Adam(1e-5),\n",
    "        loss=BinaryCrossentropy(from_logits=logits),\n",
    "        metrics=[BinaryAccuracy()]\n",
    "    )\n",
    "\n",
    "    # Entrenamos el modelo entero\n",
    "    start = time()\n",
    "    history = model.fit(training,\n",
    "                    epochs=100,\n",
    "                    validation_data=validation,\n",
    "                    callbacks=callback)\n",
    "    second_training_time = time()-start\n",
    "    mostrar_evolucion(history)\n",
    "\n",
    "    # Predecimos y calculamos una accuracy\n",
    "    score = model.evaluate(test)\n",
    "\n",
    "    return first_training_time, second_training_time, score[1]\n",
    "\n",
    "\n",
    "\"\"\"\n",
    "Ejemplo de uso de la función anterior:\n",
    "\n",
    "resnet101 = tf.keras.applications.resnet.ResNet101(include_top=False,\n",
    "                                                   weights='imagenet',\n",
    "                                                   pooling='avg')\n",
    "resnet101.trainable = False\n",
    "prep = Lambda(tf.keras.applications.resnet.preprocess_input, input_shape=(size[0],size[1],3))\n",
    "first_training_time, second_training_time, test_accuracy = train_model(resnet101,\n",
    "                                                                       prep,\n",
    "                                                                       train_ds,\n",
    "                                                                       validation_ds,\n",
    "                                                                       test_ds)\n",
    "\"\"\""
   ],
   "metadata": {
    "collapsed": false,
    "pycharm": {
     "name": "#%%\n"
    }
   }
  }
 ],
 "metadata": {
  "kernelspec": {
   "display_name": "Python 3",
   "language": "python",
   "name": "python3"
  },
  "language_info": {
   "codemirror_mode": {
    "name": "ipython",
    "version": 2
   },
   "file_extension": ".py",
   "mimetype": "text/x-python",
   "name": "python",
   "nbconvert_exporter": "python",
   "pygments_lexer": "ipython2",
   "version": "2.7.6"
  }
 },
 "nbformat": 4,
 "nbformat_minor": 0
}