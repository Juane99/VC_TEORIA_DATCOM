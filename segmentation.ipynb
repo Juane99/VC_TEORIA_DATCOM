{
 "cells": [
  {
   "cell_type": "code",
   "execution_count": 19,
   "id": "3099e0ac",
   "metadata": {},
   "outputs": [],
   "source": [
    "import math\n",
    "import cv2\n",
    "import os\n",
    "from sklearn.svm import SVC\n",
    "import seaborn as sn\n",
    "from sklearn.metrics import confusion_matrix\n",
    "import numpy as np\n",
    "import matplotlib.pyplot as plt\n",
    "import tensorflow as tf\n",
    "from keras import Model, Sequential\n",
    "from keras.losses import BinaryCrossentropy\n",
    "from tensorflow.keras.optimizers import Adam\n",
    "from keras.metrics import BinaryAccuracy\n",
    "from keras.callbacks import EarlyStopping\n",
    "from keras.layers import Softmax, Conv2D, Conv2DTranspose, MaxPooling2D, ReLU, Dense, Normalization, Dropout, Lambda, BatchNormalization, RandomFlip, RandomRotation\n",
    "import random\n",
    "from time import time\n",
    "random.seed(1234)"
   ]
  },
  {
   "cell_type": "code",
   "execution_count": 21,
   "id": "b4c8505d",
   "metadata": {},
   "outputs": [
    {
     "name": "stdout",
     "output_type": "stream",
     "text": [
      "Model: \"sequential_8\"\n",
      "_________________________________________________________________\n",
      " Layer (type)                Output Shape              Param #   \n",
      "=================================================================\n",
      " normalization_12 (Normaliza  (None, 214, 214, 3)      7         \n",
      " tion)                                                           \n",
      "                                                                 \n",
      " conv2d_16 (Conv2D)          (None, 214, 214, 64)      1792      \n",
      "                                                                 \n",
      " re_lu_9 (ReLU)              (None, 214, 214, 64)      0         \n",
      "                                                                 \n",
      " max_pooling2d_8 (MaxPooling  (None, 107, 107, 64)     0         \n",
      " 2D)                                                             \n",
      "                                                                 \n",
      " conv2d_17 (Conv2D)          (None, 107, 107, 64)      36928     \n",
      "                                                                 \n",
      " re_lu_10 (ReLU)             (None, 107, 107, 64)      0         \n",
      "                                                                 \n",
      " max_pooling2d_9 (MaxPooling  (None, 53, 53, 64)       0         \n",
      " 2D)                                                             \n",
      "                                                                 \n",
      " conv2d_18 (Conv2D)          (None, 53, 53, 64)        36928     \n",
      "                                                                 \n",
      " re_lu_11 (ReLU)             (None, 53, 53, 64)        0         \n",
      "                                                                 \n",
      " conv2d_19 (Conv2D)          (None, 53, 53, 64)        36928     \n",
      "                                                                 \n",
      "=================================================================\n",
      "Total params: 112,583\n",
      "Trainable params: 112,576\n",
      "Non-trainable params: 7\n",
      "_________________________________________________________________\n"
     ]
    }
   ],
   "source": [
    "\n",
    "modelo_base = Sequential([\n",
    "    Normalization(input_shape = (214, 214, 3)),\n",
    "    Conv2D(64, 3, strides = (1, 1), padding = \"same\"),\n",
    "    ReLU(),\n",
    "    MaxPooling2D(pool_size = (2, 2), strides = (2, 2), padding = \"valid\"),\n",
    "    Conv2D(64, 3, strides = (1, 1), padding = \"same\"),\n",
    "    ReLU(),\n",
    "    MaxPooling2D(pool_size = (2, 2), strides = (2, 2), padding = \"valid\"),\n",
    "    Conv2D(64, 3, strides = (1, 1), padding = \"same\"),\n",
    "    ReLU(),\n",
    "    Conv2D(64, 3, strides = (1, 1), padding = \"same\"),\n",
    "    # pasamos a decodificar\n",
    "    Conv2DTranspose(64, 4,  strides = (2, 2), padding = \"same\"),\n",
    "    Conv2DTranspose(64, 4,  strides = (2, 2), padding = \"valid\"),\n",
    "    Conv2D(2, 1, strides = (1, 1), padding = \"valid\"),\n",
    "    Softmax()\n",
    "\n",
    "])\n",
    "\n",
    "modelo_base.summary()\n",
    "\n"
   ]
  }
 ],
 "metadata": {
  "kernelspec": {
   "display_name": "Python 3 (ipykernel)",
   "language": "python",
   "name": "python3"
  },
  "language_info": {
   "codemirror_mode": {
    "name": "ipython",
    "version": 3
   },
   "file_extension": ".py",
   "mimetype": "text/x-python",
   "name": "python",
   "nbconvert_exporter": "python",
   "pygments_lexer": "ipython3",
   "version": "3.10.4"
  }
 },
 "nbformat": 4,
 "nbformat_minor": 5
}
